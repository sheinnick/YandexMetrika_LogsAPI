{
 "cells": [
  {
   "cell_type": "markdown",
   "metadata": {},
   "source": [
    "# блокнот с запросами, который получает выгрузки из logs api"
   ]
  },
  {
   "cell_type": "code",
   "execution_count": null,
   "metadata": {},
   "outputs": [],
   "source": [
    "import requests\n",
    "import json\n",
    "import time\n",
    "from datetime import datetime\n",
    "from datetime import date"
   ]
  },
  {
   "cell_type": "markdown",
   "metadata": {},
   "source": [
    "# Параметры отчета\n",
    "+ токен\n",
    "+ даты  \n",
    "+ счетчик  \n",
    "+ поля, которые получим:  \n",
    "    + список возможных полей для визитов (сессий) [из хелпа яндекса](https://tech.yandex.ru/metrika/doc/api2/logs/fields/visits-docpage/) \n",
    "    + список возможных полей для просмотров (хитов) [из хелпа яндекса](https://tech.yandex.ru/metrika/doc/api2/logs/fields/hits-docpage/)"
   ]
  },
  {
   "cell_type": "code",
   "execution_count": null,
   "metadata": {},
   "outputs": [],
   "source": [
    "token='……………………'     # <<<<<<<<<<<< введите токен\n",
    "counter = '………………'   # <<<<<<<<<<<< введите номер счетчика\n",
    "fields = 'ym:s:goalsID,ym:s:visitID,ym:s:counterID,ym:s:dateTimeUTC,ym:s:dateTime,ym:s:clientID,ym:s:lastTrafficSource,ym:s:lastAdvEngine,ym:s:lastReferalSource,ym:s:lastSearchEngineRoot,ym:s:lastSearchEngine,ym:s:params,ym:s:ipAddress,ym:s:bounce,ym:s:lastSocialNetwork,ym:s:visitDuration,ym:s:pageViews,ym:s:startURL,ym:s:endURL,ym:s:isNewUser,ym:s:regionCityID,ym:s:regionCountry,ym:s:regionCity,ym:s:deviceCategory,ym:s:clientTimeZone,ym:s:UTMCampaign,ym:s:UTMContent,ym:s:UTMMedium,ym:s:UTMSource,ym:s:UTMTerm,ym:s:referer,ym:s:lastDirectClickOrder,ym:s:lastDirectBannerGroup,ym:s:lastDirectClickBanner,ym:s:lastDirectClickOrderName,ym:s:lastClickBannerGroupName,ym:s:lastDirectClickBannerName,ym:s:lastDirectPhraseOrCond,ym:s:lastDirectPlatformType,ym:s:lastDirectPlatform,ym:s:lastDirectConditionType,ym:s:hasGCLID,ym:s:lastGCLID,ym:s:firstGCLID,ym:s:lastSignificantGCLID'\n",
    "start_date = '2019-01-01' # input('Please enter start date in YYYY-MM-DD format')\n",
    "end_date = '2019-01-01' # input('Please enter end date in YYYY-MM-DD format')\n",
    "source = 'visits'"
   ]
  },
  {
   "cell_type": "markdown",
   "metadata": {},
   "source": [
    "# функции"
   ]
  },
  {
   "cell_type": "code",
   "execution_count": null,
   "metadata": {},
   "outputs": [],
   "source": [
    "headers={'Authorization': f'OAuth {token}'}\n",
    "#отправляет запрос на создание лога\n",
    "def create_log(fields, counter, start_date, end_date, token, source):\n",
    "    url = f'https://api-metrika.yandex.ru/management/v1/counter/{counter}/logrequests?date1={start_date}&date2={end_date}&fields={fields}&source={source}'\n",
    "    r = requests.post(url,headers=headers)\n",
    "    if r.status_code == 200:\n",
    "        print('Log id is', r.json()['log_request']['request_id'])\n",
    "        return r.json()['log_request']['request_id']\n",
    "    else:\n",
    "        print(r.json()) #если статус не 200, то печатаем ответ полностью, возвращаем 'error'\n",
    "        return 'error'\n",
    "    \n",
    "#проверяет готовность логов. возвращает количество частей у готового лога\n",
    "def check_log(counter, log_id, token):\n",
    "    if log_id=='error':\n",
    "        print('create_log вернул error, по этому check_log не выполняем')\n",
    "        return 'error'\n",
    "    while True:\n",
    "        r = requests.get(f'https://api-metrika.yandex.ru/management/v1/counter/{counter}/logrequest/{log_id}',headers=headers)\n",
    "        if r.status_code == 200:\n",
    "            if r.json()['log_request']['status'] == 'processed':\n",
    "                print('Log parts to download - ', len(r.json()['log_request']['parts']))\n",
    "                return len(r.json()['log_request']['parts'])\n",
    "            else:\n",
    "                print(r.json()['log_request']['status'])\n",
    "        else:\n",
    "            print('error getting status ',r.json())\n",
    "            return 'error'\n",
    "        \n",
    "        print(str(datetime.now())+' ждем 60 секунд, чтобы снова проверить')\n",
    "        time.sleep(60) #60 секунд перерыв\n",
    "        \n",
    "#скачивает лог (на входе нужен лог id, counter и количество частей (количество частей возвращает check_log))\n",
    "def download_log(counter, log_id, checker, token):\n",
    "    if log_id=='error':\n",
    "        print('create_log вернул error, по этому download_log не выполняем')\n",
    "        return'error'\n",
    "    if checker=='error':\n",
    "        print('check_log вернул error, по этому download_log не выполняем')\n",
    "        return'error'\n",
    "    \n",
    "    for i in range(0, checker):\n",
    "        r = requests.get(f'https://api-metrika.yandex.ru/management/v1/counter/{counter}/logrequest/{log_id}/part/{i}/download',headers=headers, stream=True)\n",
    "        if r.status_code == 200:\n",
    "            with open(f'ym_logsAPI_{counter}_{start_date}_{end_date}_part_{i}.tsv', 'wb') as f:\n",
    "                # shutil.copyfileobj(r.raw, f)\n",
    "                for chunk in r.iter_content(chunk_size=1024): \n",
    "                    if chunk:\n",
    "                        f.write(chunk)\n",
    "                print(f'{i} part downloaded')\n",
    "    print('\\n все скачали')\n",
    "    requests.post(f'https://api-metrika.yandex.net/management/v1/counter/{counter}/logrequest/{log_id}/clean?',headers=headers)\n",
    "    print('\\n удалили лог после себя')\n",
    "    \n",
    "    \n",
    "#удаляет все логи, которые уже готовы\n",
    "def clean_ready_logs(counter):\n",
    "    b=requests.get('https://api-metrika.yandex.net/management/v1/counter/'+counter+'/logrequests?',headers=headers)\n",
    "    for x in b.json()['requests']:\n",
    "        print(str(x['request_id']))\n",
    "        a=requests.post('https://api-metrika.yandex.net/management/v1/counter/'+counter+'/logrequest/'+str(x['request_id'])+'/clean?',headers=headers)\n",
    "        if a.json().get('log_request',None):\n",
    "            print('Лог',a.json()['log_request']['request_id'],a.json()['log_request']['status'])\n",
    "        else:\n",
    "            print(a.json())"
   ]
  },
  {
   "cell_type": "markdown",
   "metadata": {},
   "source": [
    "# вызываем функции по очереди"
   ]
  },
  {
   "cell_type": "code",
   "execution_count": null,
   "metadata": {},
   "outputs": [],
   "source": [
    "#запрос лога → лог ид кладется в переменную log_id  \n",
    "log_id = create_log(fields, counter, start_date, end_date, token, source)"
   ]
  },
  {
   "cell_type": "code",
   "execution_count": null,
   "metadata": {},
   "outputs": [],
   "source": [
    "#проверка готовности лога → если все ок, то количество частей для скачивания кладем в переменную checker\n",
    "checker = check_log(counter, log_id, token) "
   ]
  },
  {
   "cell_type": "code",
   "execution_count": null,
   "metadata": {},
   "outputs": [],
   "source": [
    "#скачиваем все файлы по очереди\n",
    "download_log(counter, log_id, checker, token)"
   ]
  }
 ],
 "metadata": {
  "kernelspec": {
   "display_name": "Python 3",
   "language": "python",
   "name": "python3"
  },
  "language_info": {
   "codemirror_mode": {
    "name": "ipython",
    "version": 3
   },
   "file_extension": ".py",
   "mimetype": "text/x-python",
   "name": "python",
   "nbconvert_exporter": "python",
   "pygments_lexer": "ipython3",
   "version": "3.7.1"
  }
 },
 "nbformat": 4,
 "nbformat_minor": 2
}
